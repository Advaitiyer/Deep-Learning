Assume a linear model of the form:
$$
\hat{y} = b_0 + b_1x
$$
and a dataset
$$
\{ (x_1, y_1), (x_2, y_2), \dots, (x_n, y_n) \}.
$$

Using the following loss function
$$
L(b_0, b_1) = \sum_{i=1}^n (\hat{y}_i - y_i)^2 + \lambda b_1^2
$$
where $\lambda$ is a constant greater than 0.


The following properties might help you:
$$\frac{d(L(x) + G(x))}{dx} = \frac{dL(x)}{dx} + \frac{dG(x)}{dx}$$

$$\frac{d(x-a)^2}{dx} = 2(x-a)$$

$$\frac{d(F(G(x))}{dx} = \frac{dF(G)}{dG} \frac{dG(x)}{dx}$$

Derive the optimal value of $b_0$ and $b_1$ for the data. This is, derive the best values by solving the set of equations
$$\frac{dL}{db_0} = 0$$
$$\frac{dL}{db_1} = 0$$

For the given loss function $L(b_0, b_1) = \sum_{i=1}^n (\hat{y}_i - y_i)^2 + \lambda b_1^2$, by substituting the value of $y_0$, we can say that: 
$$L(b_0, b_1) = \sum_{i=1}^n (\hat{y}_i - b_0 + b_1x)^2 + \lambda b_1^2$$

1) Question 1: 
$$
\frac{dL(x)}{db_{0}} = 0
$$

$$
\Rightarrow \frac{dL(x)}{db_{0}} = \frac{d[\sum_{i=1}^n(b_0 + b_1x_i)+\lambda b_1^2]}{db_0}
$$
$$
\Rightarrow \sum_{i=1}^n{2\cdot (b_0 + b_1x_i - y_i)\cdot (1)} = 0
$$
$$
\Rightarrow 2nb_0 + 2b_1\sum_{i=1}^n x_i - 2\sum_{i=1}^n y_i = 0
$$
$$
\Rightarrow nb_0 = \sum_{i=1}^n (y_i - b_1x_i)
$$

$$
\Rightarrow b_0 = \frac{\sum_{i=1}^n(y_i - b_1x_i)}{n}
$$

$$
\Rightarrow b_0 = \frac{\sum_{i=1}^n y_i - b_1\sum_{i=1}^n x_i}{n}
$$

2) Question 2:
$$
\frac{dL(x)}{db_{1}} = 0
$$

$$
\Rightarrow \frac{dL(x)}{db_{1}} = \frac{d[\sum_{i=1}^n(b_0 + b_1x_i - y_i)^2+\lambda b_1^2]}{db_1}
$$
$$
\Rightarrow \sum_{i=1}^n 2(b_0 + b_1x_i - y_i)\cdot (x_i) + 2\lambda b_1 = \sum_{i=1}^n (b_0 + b_1x_i - y_i)\cdot (x_i) + \lambda b_1 = 0
$$
$$
\Rightarrow b_0\sum_{i=1}^n x_i + b_1\sum_{i=1}^n (x_i)^2 - \sum_{i=1}^n (x_iy_i) + \lambda b_1 = 0
$$
$$
\Rightarrow b_0\sum_{i=1}^n x_i + b_1(\sum_{i=1}^n (x_i)^2 + \lambda) - \sum_{i=1}^n (x_iy_i) = 0
$$
$$
\Rightarrow b_0 = \frac{\sum_{i=1}^n (x_iy_i) - b_1(\sum_{i=1}^n (x_i)^2 + \lambda)}{\sum_{i=1}^n x_i}
$$

Equating the equations for $b_0$, we get:

$$
\frac{\sum_{i=1}^n (x_iy_i) - b_1(\sum_{i=1}^n (x_i)^2 + \lambda)}{\sum_{i=1}^n x_i} = \frac{\sum_{i=1}^ny_i - b_1\sum_{i=1}^n x_i}{n}
$$
$$
\Rightarrow n\sum_{i=1}^n (x_iy_i) - b_1n(\sum_{i=1}^n (x_i)^2 + \lambda) = \sum_{i=1}^n x_i\cdot \sum_{i=1}^n y_i - b_1\sum_{i=1}^n (x_i)^2
$$
$$
\Rightarrow b_1[\sum_{i=1}^n (x_i)^2 -n(\sum_{i=1}^n x_i^2 + \lambda)] = \sum_{i=1}^n x_i\cdot \sum_{i=1}^n y_i - n\sum_{i=1}^n(x_iy_i)
$$

$$
\Rightarrow b_1 = \frac{\sum_{i=1}^n x_i\cdot \sum_{i=1}^n y_i - n\sum_{i=1}^nx_iy_i}{\sum_{i=1}^n (x_i)^2 -n(\sum_{i=1}^n x_i^2 + \lambda)}
$$

Now, we know that:
$$
b_0 = \frac{\sum_{i=1}^n y_i - b_1\sum_{i=1}^n x_i}{n}
$$
Substituting the value of $b_1$ in the equation for $b_0$, we get:
$$
b_0 = \frac{\sum_{i=1}^n y_i - [\frac{\sum_{i=1}^n x_i\cdot \sum_{i=1}^n y_i - n\sum_{i=1}^nx_iy_i}{(\sum_{i=1}^n x_i)^2 -n(\sum_{i=1}^n x_i^2 + \lambda)}]\cdot \sum_{i=1}^n x_i}{n}
$$
$$
\Rightarrow b_0 = (1/n)\frac{[\sum_{i=1}^n(x_i)^2\sum_{i=1}^ny_i - n\sum_{i=1}^n(x_i)^2\sum_{i=1}^ny_i - n\lambda\sum_{i=1}^ny_i - (\sum_{i=1}^nx_i)^2\sum_{i=1}^ny_i + n\sum_{i=1}^nx_i\sum_{i=1}^nx_iy_i]}{(\sum_{i=1}^nx_i)^2 - n((\sum_{i=1}^nx_i)^2+\lambda)}
$$

$$
\Rightarrow b_0 = (1/n)\frac{[-n\sum_{i=1}^n(x_i)^2\sum_{i=1}^ny_i - n\lambda\sum_{i=1}^ny_i + n\sum_{i=1}^nx_i\sum_{i=1}^nx_iy_i]}{(\sum_{i=1}^nx_i)^2 - n(\sum_{i=1}^n(x_i)^2 + \lambda)}
$$

$$
\Rightarrow b_0 = \frac{\sum_{i=1}^nx_i\cdot \sum_{i=1}^nx_iy_i - \sum_{i=1}^n(x_i)^2\sum_{i=1}^ny_i - \lambda\sum_{i=1}^ny_i}{(\sum_{i=1}^nx_i)^2 - n(\sum_{i=1}^n(x_i)^2 + \lambda)}
$$

After solving the equations, we get:

$$
b_1 = \frac{\sum_{i=1}^n x_i\cdot \sum_{i=1}^n y_i - n\sum_{i=1}^nx_iy_i}{\sum_{i=1}^n (x_i)^2 -n(\sum_{i=1}^n x_i^2 + \lambda)}
$$

$$
b_0 = \frac{\sum_{i=1}^nx_i\cdot \sum_{i=1}^nx_iy_i - \sum_{i=1}^n(x_i)^2\sum_{i=1}^ny_i - \lambda\sum_{i=1}^ny_i}{(\sum_{i=1}^nx_i)^2 - n(\sum_{i=1}^n(x_i)^2 + \lambda)}
$$

What if $b_1$ goes to infinity?

Dividing $b_1$ by infinity on both numerator and denominator, we get:

$$
b_1 = \frac{\sum_{i=1}^n x_i/\lambda\cdot \sum_{i=1}^n y_i/\lambda - n(\sum_{i=1}^nx_i)^2/\lambda}{\sum_{i=1}^n (x_i)^2/ \lambda -n(\sum_{i=1}^n x_i^2 + \lambda)/\lambda} 
$$

As $\lambda \to \infty$, $1/\lambda \to 0$

Therefore, at $\infty$:

$$
b_1 = 0
$$
